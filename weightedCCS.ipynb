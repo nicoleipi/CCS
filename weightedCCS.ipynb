{
 "cells": [
  {
   "cell_type": "code",
   "execution_count": 1,
   "metadata": {},
   "outputs": [],
   "source": [
    "import os\n",
    "import pandas as pd\n",
    "import numpy as np"
   ]
  },
  {
   "cell_type": "code",
   "execution_count": 58,
   "metadata": {},
   "outputs": [],
   "source": [
    "directory = r'data/model1/D3BJ/isomer/'\n",
    "\n",
    "df_list = [pd.read_csv('data/model1/D3BJ/isomer/%s' % file_name) for file_name in os.listdir(directory)]\n",
    "\n",
    "path, dirs, files = next(os.walk(directory))\n",
    "file_count = len(files)\n",
    "\n",
    "file_id=0\n",
    "df = np.zeros([7, 2])\n",
    "\n",
    "for i in range(file_count):\n",
    "    newdf = df_list[file_id].drop(['Basis', 'EZPE', 'U', 'H', 'G', 'E', 'boltz_G', 'boltz_E', 'CCS'], axis=1)\n",
    "    df = df + newdf\n",
    "    file_id = file_id+1\n",
    "df.to_csv('data/ccs/D3BJ_model1.csv', index=False)"
   ]
  }
 ],
 "metadata": {
  "interpreter": {
   "hash": "dfe19efcdfb336337323910b63c5c63039e7afaac01e6f2bdb25ac7517654e8b"
  },
  "kernelspec": {
   "display_name": "Python 3.9.9 64-bit (windows store)",
   "language": "python",
   "name": "python3"
  },
  "language_info": {
   "codemirror_mode": {
    "name": "ipython",
    "version": 3
   },
   "file_extension": ".py",
   "mimetype": "text/x-python",
   "name": "python",
   "nbconvert_exporter": "python",
   "pygments_lexer": "ipython3",
   "version": "3.8.8"
  },
  "orig_nbformat": 4
 },
 "nbformat": 4,
 "nbformat_minor": 2
}
