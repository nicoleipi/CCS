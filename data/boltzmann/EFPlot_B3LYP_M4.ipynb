{
 "cells": [
  {
   "cell_type": "code",
   "execution_count": 1,
   "source": [
    "import pandas as pd\r\n",
    "import matplotlib.pyplot as plt\r\n",
    "import numpy as np\r\n",
    "import os"
   ],
   "outputs": [],
   "metadata": {
    "scrolled": false
   }
  },
  {
   "cell_type": "code",
   "execution_count": 2,
   "source": [
    "directory = r'B3LYP_model4/calc/'\r\n",
    "for file in os.listdir(directory):\r\n",
    "    #print(file)\r\n",
    "    filename = os.path.splitext(file)[0]\r\n",
    "    #print(filename)\r\n",
    "\r\n",
    "    isomer = filename.split(\"_\",4)\r\n",
    "    #print(isomer[3])\r\n",
    "    \r\n",
    "    #Read Data\r\n",
    "    data_raw = pd.read_csv('B3LYP_model4/calc/%s' % file)\r\n",
    "    xdata = data_raw*100\r\n",
    "    data = xdata.round(2)\r\n",
    "    #print(data)\r\n",
    "    \r\n",
    "    #Data\r\n",
    "    basis_set = data.basis_set\r\n",
    "    G = data.G\r\n",
    "    #correct_G = G.round(3)\r\n",
    "    E = data.E\r\n",
    "    #correct_E = G.round(3)\r\n",
    "\r\n",
    "    #Aesthetics\r\n",
    "    fig = plt.figure()\r\n",
    "    fig.patch.set_facecolor('white')\r\n",
    "\r\n",
    "    #Plotting\r\n",
    "    font = {'fontname':'DejaVu Sans',}\r\n",
    "    w=0.3\r\n",
    "\r\n",
    "    bar1 = np.arange(len(basis_set))\r\n",
    "    plt.barh(bar1, G, w, color='#28b4f1ff', align='center', label='G')\r\n",
    "\r\n",
    "    bar2 = bar2 = [i-w for i in bar1]\r\n",
    "    plt.barh(bar2, E, w, color='#f8961eff', align='center', label='E')\r\n",
    "\r\n",
    "    plt.legend(prop={'size': 10})\r\n",
    "\r\n",
    "    #Value Labels\r\n",
    "    def addlabels(x,y,v):\r\n",
    "        for i in range(len(x)):\r\n",
    "            plt.text(y[i]+7.5, i-v,y[i], ha=\"right\", va=\"bottom\", fontsize=8)\r\n",
    "            \r\n",
    "    addlabels(bar1, G, 0.15)\r\n",
    "    addlabels(bar2, E, 0.45)\r\n",
    "            \r\n",
    "    #Axes        \r\n",
    "    ax = plt.gca()\r\n",
    "    ax.set_facecolor('#ffffff')\r\n",
    "    ax.set_xlim([0,100])\r\n",
    "    plt.title('Equilbriam Fraction of Model 4 Isomer %s (B3LYP)' % isomer[3], font)\r\n",
    "    plt.ylabel('Basis Set', font)\r\n",
    "    plt.xlabel('Probablility (%)', font)\r\n",
    "    plt.yticks(np.arange(7), ['6-31G(d)', '6-31G(d,p)', '6-31+G(d,p)', '6-311G(d,p)', '6-311++G(d,p)', '6-311G(2df,2pd)', '6-311++G(2df,2pd)'])\r\n",
    "\r\n",
    "    #Show\r\n",
    "    plt.savefig('B3LYP_model4/calc_plots/B3LYP_model4_%s.png' % isomer[3], bbox_inches='tight', dpi=300)\r\n",
    "    plt.show()"
   ],
   "outputs": [
    {
     "output_type": "error",
     "ename": "AttributeError",
     "evalue": "'DataFrame' object has no attribute 'basis_set'",
     "traceback": [
      "\u001b[1;31m---------------------------------------------------------------------------\u001b[0m",
      "\u001b[1;31mAttributeError\u001b[0m                            Traceback (most recent call last)",
      "\u001b[1;32m<ipython-input-2-fb45b485ee24>\u001b[0m in \u001b[0;36m<module>\u001b[1;34m\u001b[0m\n\u001b[0;32m     15\u001b[0m \u001b[1;33m\u001b[0m\u001b[0m\n\u001b[0;32m     16\u001b[0m     \u001b[1;31m#Data\u001b[0m\u001b[1;33m\u001b[0m\u001b[1;33m\u001b[0m\u001b[1;33m\u001b[0m\u001b[0m\n\u001b[1;32m---> 17\u001b[1;33m     \u001b[0mbasis_set\u001b[0m \u001b[1;33m=\u001b[0m \u001b[0mdata\u001b[0m\u001b[1;33m.\u001b[0m\u001b[0mbasis_set\u001b[0m\u001b[1;33m\u001b[0m\u001b[1;33m\u001b[0m\u001b[0m\n\u001b[0m\u001b[0;32m     18\u001b[0m     \u001b[0mG\u001b[0m \u001b[1;33m=\u001b[0m \u001b[0mdata\u001b[0m\u001b[1;33m.\u001b[0m\u001b[0mG\u001b[0m\u001b[1;33m\u001b[0m\u001b[1;33m\u001b[0m\u001b[0m\n\u001b[0;32m     19\u001b[0m     \u001b[1;31m#correct_G = G.round(3)\u001b[0m\u001b[1;33m\u001b[0m\u001b[1;33m\u001b[0m\u001b[1;33m\u001b[0m\u001b[0m\n",
      "\u001b[1;32m~\\anaconda3\\lib\\site-packages\\pandas\\core\\generic.py\u001b[0m in \u001b[0;36m__getattr__\u001b[1;34m(self, name)\u001b[0m\n\u001b[0;32m   5463\u001b[0m             \u001b[1;32mif\u001b[0m \u001b[0mself\u001b[0m\u001b[1;33m.\u001b[0m\u001b[0m_info_axis\u001b[0m\u001b[1;33m.\u001b[0m\u001b[0m_can_hold_identifiers_and_holds_name\u001b[0m\u001b[1;33m(\u001b[0m\u001b[0mname\u001b[0m\u001b[1;33m)\u001b[0m\u001b[1;33m:\u001b[0m\u001b[1;33m\u001b[0m\u001b[1;33m\u001b[0m\u001b[0m\n\u001b[0;32m   5464\u001b[0m                 \u001b[1;32mreturn\u001b[0m \u001b[0mself\u001b[0m\u001b[1;33m[\u001b[0m\u001b[0mname\u001b[0m\u001b[1;33m]\u001b[0m\u001b[1;33m\u001b[0m\u001b[1;33m\u001b[0m\u001b[0m\n\u001b[1;32m-> 5465\u001b[1;33m             \u001b[1;32mreturn\u001b[0m \u001b[0mobject\u001b[0m\u001b[1;33m.\u001b[0m\u001b[0m__getattribute__\u001b[0m\u001b[1;33m(\u001b[0m\u001b[0mself\u001b[0m\u001b[1;33m,\u001b[0m \u001b[0mname\u001b[0m\u001b[1;33m)\u001b[0m\u001b[1;33m\u001b[0m\u001b[1;33m\u001b[0m\u001b[0m\n\u001b[0m\u001b[0;32m   5466\u001b[0m \u001b[1;33m\u001b[0m\u001b[0m\n\u001b[0;32m   5467\u001b[0m     \u001b[1;32mdef\u001b[0m \u001b[0m__setattr__\u001b[0m\u001b[1;33m(\u001b[0m\u001b[0mself\u001b[0m\u001b[1;33m,\u001b[0m \u001b[0mname\u001b[0m\u001b[1;33m:\u001b[0m \u001b[0mstr\u001b[0m\u001b[1;33m,\u001b[0m \u001b[0mvalue\u001b[0m\u001b[1;33m)\u001b[0m \u001b[1;33m->\u001b[0m \u001b[1;32mNone\u001b[0m\u001b[1;33m:\u001b[0m\u001b[1;33m\u001b[0m\u001b[1;33m\u001b[0m\u001b[0m\n",
      "\u001b[1;31mAttributeError\u001b[0m: 'DataFrame' object has no attribute 'basis_set'"
     ]
    }
   ],
   "metadata": {}
  }
 ],
 "metadata": {
  "kernelspec": {
   "name": "python3",
   "display_name": "Python 3.8.8 64-bit ('base': conda)"
  },
  "language_info": {
   "codemirror_mode": {
    "name": "ipython",
    "version": 3
   },
   "file_extension": ".py",
   "mimetype": "text/x-python",
   "name": "python",
   "nbconvert_exporter": "python",
   "pygments_lexer": "ipython3",
   "version": "3.8.8"
  },
  "interpreter": {
   "hash": "70064efcc27c65f2a8d6f4ea28433ffa4423ace3f052d316b836f2dc2cc504f8"
  }
 },
 "nbformat": 4,
 "nbformat_minor": 5
}