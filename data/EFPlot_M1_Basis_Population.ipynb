{
 "cells": [
  {
   "cell_type": "code",
   "execution_count": null,
   "source": [
    "import pandas as pd\r\n",
    "import matplotlib\r\n",
    "import matplotlib.pyplot as plt\r\n",
    "import numpy as np\r\n",
    "import os"
   ],
   "outputs": [],
   "metadata": {
    "scrolled": false
   }
  },
  {
   "cell_type": "markdown",
   "source": [
    "B3LYP Gibb's Free Energy"
   ],
   "metadata": {}
  },
  {
   "cell_type": "code",
   "execution_count": null,
   "source": [
    "#Aesthetics\r\n",
    "fig = plt.figure(figsize=(13, 6))\r\n",
    "fig.patch.set_facecolor('white')\r\n",
    "\r\n",
    "#Plotting\r\n",
    "font = {'fontname':'DejaVu Sans',}\r\n",
    "\r\n",
    "directory = r'B3LYP_model1/calc'\r\n",
    "for file in os.listdir(directory):\r\n",
    "    #print(file)\r\n",
    "    filename = os.path.splitext(file)[0]\r\n",
    "    #print(filename)\r\n",
    "\r\n",
    "    isomer = filename.split(\"_\",4)\r\n",
    "    \r\n",
    "    #Read Data\r\n",
    "    data_raw = pd.read_csv('B3LYP_model1/calc/%s' % file)\r\n",
    "    xdata = data_raw*100\r\n",
    "    data = xdata.round(2)\r\n",
    "    #print(data)\r\n",
    "    \r\n",
    "    #Data\r\n",
    "    basis = data.basis_set\r\n",
    "    G = data.G\r\n",
    "    E = data.E\r\n",
    "\r\n",
    "    plt.plot(basis, G, label=isomer[3], marker='o')\r\n",
    "\r\n",
    "plt.legend(loc = 'best', mode = \"expand\", ncol = 8)\r\n",
    " \r\n",
    "#Axes\r\n",
    "ax = plt.gca()\r\n",
    "ax.set_facecolor('#ffffff')\r\n",
    "ax.set_ylim([0,100])\r\n",
    "plt.title('Model 1 Relative Populations (B3LYP) Gibb\\'s Free Energy', font)\r\n",
    "plt.xlabel('Basis Set', font, fontweight='bold')\r\n",
    "plt.ylabel('Probablility (%)', font, fontweight='bold')\r\n",
    "plt.xticks([0, 100, 200, 300, 400, 500, 600], ['6-31G(d)', '6-31G(d,p)', '6-31+G(d,p)', '6-311G(d,p)', '6-311++G(d,p)', '6-311G(2df,2pd)', '6-311++G(2df,2pd)'])\r\n",
    "\r\n",
    "#Show\r\n",
    "plt.savefig('model1/b_plots/g_model1.png' % basis[1], bbox_inches='tight', dpi=300)\r\n",
    "plt.show()"
   ],
   "outputs": [],
   "metadata": {}
  },
  {
   "cell_type": "markdown",
   "source": [
    "B3LYP Electronic Energy"
   ],
   "metadata": {}
  },
  {
   "cell_type": "code",
   "execution_count": null,
   "source": [
    "#Aesthetics\r\n",
    "fig = plt.figure(figsize=(13, 6))\r\n",
    "fig.patch.set_facecolor('white')\r\n",
    "\r\n",
    "#Plotting\r\n",
    "font = {'fontname':'DejaVu Sans',}\r\n",
    "\r\n",
    "directory = r'B3LYP_model1/calc'\r\n",
    "for file in os.listdir(directory):\r\n",
    "    #print(file)\r\n",
    "    filename = os.path.splitext(file)[0]\r\n",
    "    #print(filename)\r\n",
    "\r\n",
    "    isomer = filename.split(\"_\",4)\r\n",
    "    \r\n",
    "    #Read Data\r\n",
    "    data_raw = pd.read_csv('B3LYP_model1/calc/%s' % file)\r\n",
    "    xdata = data_raw*100\r\n",
    "    data = xdata.round(2)\r\n",
    "    #print(data)\r\n",
    "    \r\n",
    "    #Data\r\n",
    "    basis = data.basis_set\r\n",
    "    E = data.E\r\n",
    "\r\n",
    "    plt.plot(basis, E, label=isomer[3], marker='o')\r\n",
    "\r\n",
    "plt.legend(loc = 'best', mode = \"expand\", ncol = 8)\r\n",
    " \r\n",
    "#Axes\r\n",
    "ax = plt.gca()\r\n",
    "ax.set_facecolor('#ffffff')\r\n",
    "ax.set_ylim([0,100])\r\n",
    "plt.title('Model 1 Relative Populations (B3LYP) Electronic Energy', font)\r\n",
    "plt.xlabel('Basis Set', font, fontweight='bold')\r\n",
    "plt.ylabel('Probablility (%)', font, fontweight='bold')\r\n",
    "plt.xticks([0, 100, 200, 300, 400, 500, 600], ['6-31G(d)', '6-31G(d,p)', '6-31+G(d,p)', '6-311G(d,p)', '6-311++G(d,p)', '6-311G(2df,2pd)', '6-311++G(2df,2pd)'])\r\n",
    "\r\n",
    "#Show\r\n",
    "plt.savefig('model1/b_plots/e_model1.png' % basis[1], bbox_inches='tight', dpi=300)\r\n",
    "plt.show()"
   ],
   "outputs": [],
   "metadata": {}
  },
  {
   "cell_type": "markdown",
   "source": [
    "B3LYP-D3(BJ) Gibb's Free Energy"
   ],
   "metadata": {}
  },
  {
   "cell_type": "code",
   "execution_count": null,
   "source": [
    "#Aesthetics\r\n",
    "fig = plt.figure(figsize=(13, 6))\r\n",
    "fig.patch.set_facecolor('white')\r\n",
    "\r\n",
    "#Plotting\r\n",
    "font = {'fontname':'DejaVu Sans',}\r\n",
    "\r\n",
    "directory = r'D3BJ_model1/calc'\r\n",
    "for file in os.listdir(directory):\r\n",
    "    #print(file)\r\n",
    "    filename = os.path.splitext(file)[0]\r\n",
    "    #print(filename)\r\n",
    "\r\n",
    "    isomer = filename.split(\"_\",4)\r\n",
    "    \r\n",
    "    #Read Data\r\n",
    "    data_raw = pd.read_csv('D3BJ_model1/calc/%s' % file)\r\n",
    "    xdata = data_raw*100\r\n",
    "    data = xdata.round(2)\r\n",
    "    #print(data)\r\n",
    "    \r\n",
    "    #Data\r\n",
    "    basis = data.basis_set\r\n",
    "    G = data.G\r\n",
    "\r\n",
    "    plt.plot(basis, G, label=isomer[3], marker='o')\r\n",
    "\r\n",
    "plt.legend(loc = 'best', mode = \"expand\", ncol = 8)\r\n",
    " \r\n",
    "#Axes\r\n",
    "ax = plt.gca()\r\n",
    "ax.set_facecolor('#ffffff')\r\n",
    "ax.set_ylim([0,100])\r\n",
    "plt.title('Model 1 Relative Populations (B3LYP-D3(BJ)) Gibb\\'s Free Energy', font)\r\n",
    "plt.xlabel('Basis Set', font, fontweight='bold')\r\n",
    "plt.ylabel('Probablility (%)', font, fontweight='bold')\r\n",
    "plt.xticks([0, 100, 200, 300, 400, 500, 600], ['6-31G(d)', '6-31G(d,p)', '6-31+G(d,p)', '6-311G(d,p)', '6-311++G(d,p)', '6-311G(2df,2pd)', '6-311++G(2df,2pd)'])\r\n",
    "\r\n",
    "#Show\r\n",
    "plt.savefig('model1/d_plots/g_model1.png' % basis[1], bbox_inches='tight', dpi=300)\r\n",
    "plt.show()"
   ],
   "outputs": [],
   "metadata": {}
  },
  {
   "cell_type": "markdown",
   "source": [
    "B3LYP-D3(BJ) Electronic Energy"
   ],
   "metadata": {}
  },
  {
   "cell_type": "code",
   "execution_count": null,
   "source": [
    "#Aesthetics\r\n",
    "fig = plt.figure(figsize=(13, 6))\r\n",
    "fig.patch.set_facecolor('white')\r\n",
    "\r\n",
    "#Plotting\r\n",
    "font = {'fontname':'DejaVu Sans',}\r\n",
    "\r\n",
    "directory = r'D3BJ_model1/calc'\r\n",
    "for file in os.listdir(directory):\r\n",
    "    #print(file)\r\n",
    "    filename = os.path.splitext(file)[0]\r\n",
    "    #print(filename)\r\n",
    "\r\n",
    "    isomer = filename.split(\"_\",4)\r\n",
    "    \r\n",
    "    #Read Data\r\n",
    "    data_raw = pd.read_csv('D3BJ_model1/calc/%s' % file)\r\n",
    "    xdata = data_raw*100\r\n",
    "    data = xdata.round(2)\r\n",
    "    #print(data)\r\n",
    "    \r\n",
    "    #Data\r\n",
    "    basis = data.basis_set\r\n",
    "    E = data.E\r\n",
    "\r\n",
    "    plt.plot(basis, E, label=isomer[3], marker='o')\r\n",
    "\r\n",
    "plt.legend(loc = 'best', mode = \"expand\", ncol = 8)\r\n",
    " \r\n",
    "#Axes\r\n",
    "ax = plt.gca()\r\n",
    "ax.set_facecolor('#ffffff')\r\n",
    "ax.set_ylim([0,100])\r\n",
    "plt.title('Model 1 Relative Populations (B3LYP-D3(BJ)) Electronic Energy', font)\r\n",
    "plt.xlabel('Basis Set', font, fontweight='bold')\r\n",
    "plt.ylabel('Probablility (%)', font, fontweight='bold')\r\n",
    "plt.xticks([0, 100, 200, 300, 400, 500, 600], ['6-31G(d)', '6-31G(d,p)', '6-31+G(d,p)', '6-311G(d,p)', '6-311++G(d,p)', '6-311G(2df,2pd)', '6-311++G(2df,2pd)'])\r\n",
    "\r\n",
    "#Show\r\n",
    "plt.savefig('model1/d_plots/e_model1.png' % basis[1], bbox_inches='tight', dpi=300)\r\n",
    "plt.show()"
   ],
   "outputs": [],
   "metadata": {}
  }
 ],
 "metadata": {
  "kernelspec": {
   "name": "python3",
   "display_name": "Python 3.8.8 64-bit ('base': conda)"
  },
  "language_info": {
   "codemirror_mode": {
    "name": "ipython",
    "version": 3
   },
   "file_extension": ".py",
   "mimetype": "text/x-python",
   "name": "python",
   "nbconvert_exporter": "python",
   "pygments_lexer": "ipython3",
   "version": "3.8.8"
  },
  "interpreter": {
   "hash": "70064efcc27c65f2a8d6f4ea28433ffa4423ace3f052d316b836f2dc2cc504f8"
  }
 },
 "nbformat": 4,
 "nbformat_minor": 5
}