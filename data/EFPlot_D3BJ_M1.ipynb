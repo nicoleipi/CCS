{
 "cells": [
  {
   "cell_type": "code",
   "execution_count": null,
   "source": [
    "import pandas as pd\r\n",
    "import matplotlib\r\n",
    "import matplotlib.pyplot as plt\r\n",
    "import numpy as np\r\n",
    "import os"
   ],
   "outputs": [],
   "metadata": {
    "scrolled": false
   }
  },
  {
   "cell_type": "code",
   "execution_count": 15,
   "source": [
    "directory = r'model1/d_csv'\r\n",
    "for file in os.listdir(directory):\r\n",
    "    #print(file)\r\n",
    "    filename = os.path.splitext(file)[0]\r\n",
    "    #print(filename)\r\n",
    "\r\n",
    "    basis = filename.split(\"_\",2)\r\n",
    "\r\n",
    "    i = 0\r\n",
    "    if basis[1] == '0':\r\n",
    "        i = '6-31G(d)'\r\n",
    "    elif basis[1] == '1':\r\n",
    "        i = '6-31G(d,p)'\r\n",
    "    elif basis[1] == '2':\r\n",
    "        i = '6-31+G(d,p)'\r\n",
    "    elif basis[1] == '3':\r\n",
    "        i = '6-311G(d,p)'\r\n",
    "    elif basis[1] == '4':\r\n",
    "        i = '6-311++G(d,p)'\r\n",
    "    elif basis[1] == '5':\r\n",
    "        i = '6-311G(2df,2pd)'\r\n",
    "    else:\r\n",
    "        i = '6-311++G(2df,2pd)'\r\n",
    "\r\n",
    "    #Read Data\r\n",
    "    data_raw = pd.read_csv('model1/d_csv/%s' % file)\r\n",
    "    xdata = data_raw*100\r\n",
    "    data = xdata.round(2)\r\n",
    "    #print(data)\r\n",
    "    \r\n",
    "    #Data\r\n",
    "    isomer = data.isomer\r\n",
    "    G = data.G\r\n",
    "    E = data.E\r\n",
    "\r\n",
    "    #Aesthetics\r\n",
    "    fig = plt.figure(figsize=(20, 6))\r\n",
    "    fig.patch.set_facecolor('white')\r\n",
    "\r\n",
    "    #Plotting\r\n",
    "    font = {'fontname':'DejaVu Sans',}\r\n",
    "    w=0.45\r\n",
    "\r\n",
    "    bar1 = plt.bar(np.arange(len(isomer)), G, w, color='#28b4f1ff', align='edge', label='G')\r\n",
    "\r\n",
    "    bar2 = plt.bar([i-w for i in np.arange(len(isomer))], E, w, color='#f8961eff', align='edge', label='E')\r\n",
    "\r\n",
    "    plt.legend(prop={'size': 10})\r\n",
    " \r\n",
    "    #Axes\r\n",
    "    ax = plt.gca()\r\n",
    "    ax.set_facecolor('#ffffff')\r\n",
    "    ax.set_ylim([0,100])\r\n",
    "    plt.title('Model 1 Relative Populations (B3LYP-D3(BJ)) %s' % i, font)\r\n",
    "    plt.xlabel('Isomer', font)\r\n",
    "    plt.ylabel('Probablility (%)', font)\r\n",
    "    plt.xticks(np.arange(16), ['118', '150', '273', '295', '338', '340', '422', '455', '490', '591', '599', '609', '640', '683', '801', '900'])\r\n",
    "\r\n",
    "    #Value Labels\r\n",
    "    plt.bar_label(bar1, padding=3)\r\n",
    "    plt.bar_label(bar2, padding=3)\r\n",
    "\r\n",
    "    #Show\r\n",
    "    plt.savefig('model1/d_plots/%s_model1.png' % basis[1], bbox_inches='tight', dpi=300)\r\n",
    "    plt.show()"
   ],
   "outputs": [
    {
     "output_type": "stream",
     "name": "stdout",
     "text": [
      "0\n",
      "6-31G(d)\n",
      "1\n",
      "6-31G(d,p)\n",
      "2\n",
      "6-31+G(d,p)\n",
      "3\n",
      "6-311G(d,p)\n",
      "4\n",
      "6-311++G(d,p)\n",
      "5\n",
      "6-311G(2df,2pd)\n",
      "6\n",
      "6-311++G(2df,2pd)\n"
     ]
    }
   ],
   "metadata": {}
  }
 ],
 "metadata": {
  "kernelspec": {
   "name": "python3",
   "display_name": "Python 3.8.8 64-bit ('base': conda)"
  },
  "language_info": {
   "codemirror_mode": {
    "name": "ipython",
    "version": 3
   },
   "file_extension": ".py",
   "mimetype": "text/x-python",
   "name": "python",
   "nbconvert_exporter": "python",
   "pygments_lexer": "ipython3",
   "version": "3.8.8"
  },
  "interpreter": {
   "hash": "70064efcc27c65f2a8d6f4ea28433ffa4423ace3f052d316b836f2dc2cc504f8"
  }
 },
 "nbformat": 4,
 "nbformat_minor": 5
}