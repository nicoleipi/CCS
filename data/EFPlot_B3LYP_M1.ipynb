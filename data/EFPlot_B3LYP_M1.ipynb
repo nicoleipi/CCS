{
 "cells": [
  {
   "cell_type": "code",
   "execution_count": 2,
   "source": [
    "import pandas as pd\r\n",
    "import matplotlib.pyplot as plt\r\n",
    "import numpy as np\r\n",
    "import os"
   ],
   "outputs": [],
   "metadata": {
    "scrolled": false
   }
  },
  {
   "cell_type": "code",
   "execution_count": 34,
   "source": [
    "directory = r'model1/d_csv'\r\n",
    "for file in os.listdir(directory):\r\n",
    "    #print(file)\r\n",
    "    filename = os.path.splitext(file)[0]\r\n",
    "    #print(filename)\r\n",
    "\r\n",
    "    basis = filename.split(\"_\",2)\r\n",
    "    \r\n",
    "    #Read Data\r\n",
    "    data_raw = pd.read_csv('model1/d_csv/%s' % file)\r\n",
    "    xdata = data_raw*100\r\n",
    "    data = xdata.round(2)\r\n",
    "    #print(data)\r\n",
    "    \r\n",
    "    #Data\r\n",
    "    isomer = data.isomer\r\n",
    "    G = data.G\r\n",
    "    E = data.E\r\n",
    "\r\n",
    "    #Aesthetics\r\n",
    "    fig = plt.figure(figsize=(9, 6))\r\n",
    "    fig.patch.set_facecolor('white')\r\n",
    "\r\n",
    "    #Plotting\r\n",
    "    font = {'fontname':'DejaVu Sans',}\r\n",
    "    w=0.4\r\n",
    "\r\n",
    "    bar1 = np.arange(len(isomer))\r\n",
    "    plt.bar(bar1, G, w, color='#28b4f1ff', align='edge', label='G')\r\n",
    "\r\n",
    "    bar2 = bar2 = [i-w for i in bar1]\r\n",
    "    plt.bar(bar2, E, w, color='#f8961eff', align='edge', label='E')\r\n",
    "\r\n",
    "    plt.legend(prop={'size': 10})\r\n",
    " \r\n",
    "    #Axes        \r\n",
    "    ax = plt.gca()\r\n",
    "    ax.set_facecolor('#ffffff')\r\n",
    "    ax.set_ylim([0,100])\r\n",
    "    plt.title('Model 1 Relative Populations (B3LYP)', font)\r\n",
    "    plt.xlabel('Isomer', font)\r\n",
    "    plt.ylabel('Probablility (%)', font)\r\n",
    "    plt.xticks(np.arange(16), ['118', '150', '273', '295', '338', '340', '422', '455', '490', '591', '599', '609', '640', '683', '801', '900'])\r\n",
    "\r\n",
    "    #Value Labels\r\n",
    "    ax.bar_label(bar1, label_type='center')\r\n",
    "    ax.bar_label(bar2, label_type='center')\r\n",
    "\r\n",
    "    #Show\r\n",
    "    plt.savefig('model1/d_plots/%s_model1.png' % basis[1], bbox_inches='tight', dpi=300)\r\n",
    "    plt.show()"
   ],
   "outputs": [
    {
     "output_type": "stream",
     "name": "stderr",
     "text": [
      "No handles with labels found to put in legend.\n"
     ]
    },
    {
     "output_type": "error",
     "ename": "AttributeError",
     "evalue": "'AxesSubplot' object has no attribute 'bar_label'",
     "traceback": [
      "\u001b[1;31m---------------------------------------------------------------------------\u001b[0m",
      "\u001b[1;31mAttributeError\u001b[0m                            Traceback (most recent call last)",
      "\u001b[1;32m<ipython-input-34-97cab670d09b>\u001b[0m in \u001b[0;36m<module>\u001b[1;34m\u001b[0m\n\u001b[0;32m     44\u001b[0m \u001b[1;33m\u001b[0m\u001b[0m\n\u001b[0;32m     45\u001b[0m     \u001b[1;31m#Value Labels\u001b[0m\u001b[1;33m\u001b[0m\u001b[1;33m\u001b[0m\u001b[1;33m\u001b[0m\u001b[0m\n\u001b[1;32m---> 46\u001b[1;33m     \u001b[0max\u001b[0m\u001b[1;33m.\u001b[0m\u001b[0mbar_label\u001b[0m\u001b[1;33m(\u001b[0m\u001b[0mbar1\u001b[0m\u001b[1;33m,\u001b[0m \u001b[0mlabel_type\u001b[0m\u001b[1;33m=\u001b[0m\u001b[1;34m'center'\u001b[0m\u001b[1;33m)\u001b[0m\u001b[1;33m\u001b[0m\u001b[1;33m\u001b[0m\u001b[0m\n\u001b[0m\u001b[0;32m     47\u001b[0m     \u001b[0max\u001b[0m\u001b[1;33m.\u001b[0m\u001b[0mbar_label\u001b[0m\u001b[1;33m(\u001b[0m\u001b[0mbar2\u001b[0m\u001b[1;33m,\u001b[0m \u001b[0mlabel_type\u001b[0m\u001b[1;33m=\u001b[0m\u001b[1;34m'center'\u001b[0m\u001b[1;33m)\u001b[0m\u001b[1;33m\u001b[0m\u001b[1;33m\u001b[0m\u001b[0m\n\u001b[0;32m     48\u001b[0m \u001b[1;33m\u001b[0m\u001b[0m\n",
      "\u001b[1;31mAttributeError\u001b[0m: 'AxesSubplot' object has no attribute 'bar_label'"
     ]
    },
    {
     "output_type": "display_data",
     "data": {
      "text/plain": [
       "<Figure size 648x432 with 1 Axes>"
      ],
      "image/png": "[encoded data removed]"
     },
     "metadata": {}
    }
   ],
   "metadata": {}
  }
 ],
 "metadata": {
  "kernelspec": {
   "name": "python3",
   "display_name": "Python 3.8.8 64-bit ('base': conda)"
  },
  "language_info": {
   "codemirror_mode": {
    "name": "ipython",
    "version": 3
   },
   "file_extension": ".py",
   "mimetype": "text/x-python",
   "name": "python",
   "nbconvert_exporter": "python",
   "pygments_lexer": "ipython3",
   "version": "3.8.8"
  },
  "interpreter": {
   "hash": "70064efcc27c65f2a8d6f4ea28433ffa4423ace3f052d316b836f2dc2cc504f8"
  }
 },
 "nbformat": 4,
 "nbformat_minor": 5
}