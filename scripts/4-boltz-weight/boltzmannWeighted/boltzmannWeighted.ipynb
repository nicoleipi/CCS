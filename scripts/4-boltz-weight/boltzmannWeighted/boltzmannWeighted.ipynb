{
 "cells": [
  {
   "cell_type": "code",
   "execution_count": 1,
   "metadata": {},
   "outputs": [],
   "source": [
    "import os\n",
    "import pandas as pd\n",
    "import numpy as np"
   ]
  },
  {
   "cell_type": "code",
   "execution_count": 33,
   "metadata": {},
   "outputs": [],
   "source": [
    "directory = r'data/model4/D3BJ/isomer/'\n",
    "\n",
    "for file in os.listdir(directory):\n",
    "    df = pd.read_csv('data/model4/D3BJ/isomer/%s' % file)\n",
    "\n",
    "    # Boltzmann Weighted CCS with using Boltzmann Average calculated w/ G\n",
    "    df['CCS_G'] = df['boltz_G'] * df['CCS']\n",
    "    #print(df['CCS_G'])\n",
    "\n",
    "    # Boltzmann Weighted CCS with using Boltzmann Average calculated w/ E\n",
    "    df['CCS_E'] = df['boltz_E'] * df['CCS']\n",
    "    #print(df['CCS_E'])\n",
    "\n",
    "    df.to_csv('data/model4/D3BJ/isomer/{}'.format(file), index=False)"
   ]
  }
 ],
 "metadata": {
  "interpreter": {
   "hash": "dfe19efcdfb336337323910b63c5c63039e7afaac01e6f2bdb25ac7517654e8b"
  },
  "kernelspec": {
   "display_name": "Python 3.9.9 64-bit (windows store)",
   "language": "python",
   "name": "python3"
  },
  "language_info": {
   "codemirror_mode": {
    "name": "ipython",
    "version": 3
   },
   "file_extension": ".py",
   "mimetype": "text/x-python",
   "name": "python",
   "nbconvert_exporter": "python",
   "pygments_lexer": "ipython3",
   "version": "3.8.8"
  },
  "orig_nbformat": 4
 },
 "nbformat": 4,
 "nbformat_minor": 2
}
